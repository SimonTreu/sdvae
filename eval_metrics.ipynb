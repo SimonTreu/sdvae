{
 "cells": [
  {
   "cell_type": "code",
   "execution_count": 1,
   "metadata": {},
   "outputs": [],
   "source": [
    "from netCDF4 import Dataset\n",
    "\n",
    "import numpy as np\n",
    "import matplotlib.pyplot as plt\n",
    "import os\n",
    "from utils.upscale import Upscale\n",
    "import torch"
   ]
  },
  {
   "cell_type": "code",
   "execution_count": 2,
   "metadata": {},
   "outputs": [],
   "source": [
    "with Dataset(os.path.join('data', 'wind_psl', 'pr.std.nc4'), \"r\", format=\"NETCDF4\") as file:\n",
    "    std = file['pr'][0].item()"
   ]
  },
  {
   "cell_type": "code",
   "execution_count": 3,
   "metadata": {},
   "outputs": [],
   "source": [
    "with Dataset(os.path.join('data', 'wind_psl', 'orog.std.nc4'), \"r\", format=\"NETCDF4\") as file:\n",
    "    std_orog = file['orog'][0].item()"
   ]
  },
  {
   "cell_type": "markdown",
   "metadata": {},
   "source": [
    " Commonly used threshold to define dry_days is 0.1 mm/day\n"
   ]
  },
  {
   "cell_type": "code",
   "execution_count": 4,
   "metadata": {},
   "outputs": [],
   "source": [
    "threshold = 0.1"
   ]
  },
  {
   "cell_type": "markdown",
   "metadata": {},
   "source": [
    "## Functions"
   ]
  },
  {
   "cell_type": "markdown",
   "metadata": {},
   "source": [
    "### Units:\n",
    "The output of edvae is precipitation_flux $\\left[\\frac{\\text{kg}}{\\text{m}^2 \\text{s}}\\right]$ divided by its standard deviation over all years and grid points."
   ]
  },
  {
   "cell_type": "code",
   "execution_count": 5,
   "metadata": {},
   "outputs": [],
   "source": [
    "def normalized_flux_to_mm_per_d(pr_norm_flux, std):\n",
    "    return pr_norm_flux * std * 60 * 60 * 24\n",
    "def mm_per_d_to_normalized_flux(mm_per_day, std):\n",
    "    return mm_per_day / std / 60 / 60 / 24"
   ]
  },
  {
   "cell_type": "code",
   "execution_count": 6,
   "metadata": {},
   "outputs": [],
   "source": [
    "def wet_days_percentile(pr, percentile):\n",
    "    w_days = np.zeros(pr.shape[1:])\n",
    "    for i in range(pr.shape[1]):\n",
    "        for j in range(pr.shape[2]):\n",
    "            if len(pr[:,i,j][pr[:,i,j] > threshold]) == 0:\n",
    "                w_days[i,j]\n",
    "            else:\n",
    "                w_days[i,j] = np.percentile(pr[:,i,j][pr[:,i,j] > threshold], percentile)\n",
    "    return w_days "
   ]
  },
  {
   "cell_type": "code",
   "execution_count": 7,
   "metadata": {},
   "outputs": [],
   "source": [
    "def read_data(path, test_times=False, mean_downscaled=False, orog=False):\n",
    "    with Dataset(path, \"r\", format=\"NETCDF4\") as file:\n",
    "        if test_times:\n",
    "            pr = file['pr'][:]\n",
    "            pr_recon = file['downscaled_pr_0'][:]\n",
    "            pr_interpol = file['bilinear_downscaled_pr'][:]\n",
    "        else:\n",
    "            pr = file['pr'][:,4:-4,4:-4]\n",
    "            pr_recon = file['downscaled_pr_0'][:,4:-4,4:-4]\n",
    "            pr_interpol = file['bilinear_downscaled_pr'][:,4:-4,4:-4]\n",
    "        t = len(file['time'])\n",
    "        # convert to mm/d\n",
    "        pr = normalized_flux_to_mm_per_d(pr, std)\n",
    "        pr_recon = normalized_flux_to_mm_per_d(pr_recon, std)\n",
    "        pr_interpol = normalized_flux_to_mm_per_d(pr_interpol, std)\n",
    "        \n",
    "        if mean_downscaled:\n",
    "            if test_times:\n",
    "                pr_recon = file['mean_downscaled_pr_0'][:]\n",
    "            else:\n",
    "                pr_recon = file['mean_downscaled_pr_0'][:,4:-4,4:-4]\n",
    "            pr_recon = normalized_flux_to_mm_per_d(pr_recon, std)\n",
    "        if orog:\n",
    "            orog = file['orog'][4:-4,4:-4]\n",
    "            return pr, pr_recon, pr_interpol, t, orog         \n",
    "    return pr, pr_recon, pr_interpol, t"
   ]
  },
  {
   "cell_type": "code",
   "execution_count": 8,
   "metadata": {},
   "outputs": [],
   "source": [
    "def plot_percentiles(paths, area, percentiles, test_times=False, mean_downscaled=False, vlims=None):\n",
    "    fontsize = 10\n",
    "    fig, axes = plt.subplots(len(percentiles)+1, len(paths)+2, sharex=True, sharey=True, figsize = (14, 6))\n",
    "    for ax, col in zip(axes[0], ['Observed', 'Bilinear Interpolated']+paths):\n",
    "        if len(col.split('/')) > 1: # Only plot relevant part of path\n",
    "            ax.set_title(col.split('/')[1], fontsize=fontsize)\n",
    "        else:\n",
    "            ax.set_title(col, fontsize=fontsize) # observed and bilinear interpolation\n",
    "    for ax, percentile in zip(axes[:,0], ['RDDF']+percentiles):\n",
    "        if percentile == 'RDDF':\n",
    "            ax.set_ylabel('RDDF'.format(percentile), rotation=90, fontsize=fontsize)\n",
    "        else:\n",
    "            ax.set_ylabel('{}th Percentile'.format(percentile), rotation=90, fontsize=fontsize)\n",
    "    \n",
    "    pr, _, pr_interpol, t, orog = read_data(path=os.path.join(paths[0], area), test_times=test_times,\n",
    "                                      mean_downscaled=mean_downscaled,orog=True)\n",
    "    # plot rddf\n",
    "    rddf_pr = np.sum(pr <= 0.1,axis=0)/t\n",
    "    rddf_interpol = np.sum(pr_interpol <= 0.1, axis=0)/t\n",
    "    axes[0,0].imshow(rddf_pr, cmap=plt.get_cmap('jet'), vmin=0, vmax=1)\n",
    "    axes[0,0].contour(orog*std_orog, cmap=plt.get_cmap('Greys'), levels=[250,1000,1750,2500], linewidths=1)\n",
    "    axes[0,1].imshow(rddf_interpol, cmap=plt.get_cmap('jet'), vmin=0, vmax=1)\n",
    "    axes[0,1].contour(orog*std_orog, cmap=plt.get_cmap('Greys'), levels=[250,1000,1750,2500], linewidths=1)\n",
    "    # plot pr and interpol_pr, set v_min, v_max to the pr max and min value\n",
    "    if vlims is None:\n",
    "        vlims = []\n",
    "    for i in range(len(percentiles)):\n",
    "        pr_percentile = wet_days_percentile(pr, percentiles[i])\n",
    "        if len(vlims) < len(percentiles):\n",
    "            vmin = pr_percentile.min()\n",
    "            vmax = pr_percentile.max()\n",
    "            vlims.append([vmin, vmax])\n",
    "        else:\n",
    "            vmin = vlims[i][0]\n",
    "            vmax = vlims[i][1]\n",
    "            \n",
    "        print('for percentile {} observed min={}, observed_max={}'.format(\n",
    "            percentiles[i], pr_percentile.min(), pr_percentile.max()))\n",
    "        \n",
    "        axes[i+1,0].imshow(pr_percentile, cmap=plt.get_cmap('jet'), vmin=vmin, vmax=vmax)\n",
    "        axes[i+1,0].contour(orog*std_orog, cmap=plt.get_cmap('Greys'), levels=[250,1000,1750,2500], linewidths=1)\n",
    "        axes[i+1,1].imshow(wet_days_percentile(pr_interpol, percentiles[i]), cmap=plt.get_cmap('jet'),\n",
    "                          vmin=vmin, vmax=vmax)\n",
    "        axes[i+1,1].contour(orog*std_orog, cmap=plt.get_cmap('Greys'), levels=[250,1000,1750,2500], linewidths=1)\n",
    "    # plot downscaled results\n",
    "    for j in range(len(paths)):\n",
    "        _, pr_recon, _, _ = read_data(path=os.path.join(paths[j], area), test_times=test_times,\n",
    "                                      mean_downscaled=mean_downscaled)\n",
    "        rddf_recon = np.sum(pr_recon <= 0.1,axis=0)/t\n",
    "        # plot rddf\n",
    "        axes[0,j+2].imshow(rddf_recon, cmap=plt.get_cmap('jet'), vmin=0, vmax=1)\n",
    "        axes[0,j+2].contour(orog*std_orog, cmap=plt.get_cmap('Greys'), levels=[250,1000,1750,2500], linewidths=1)\n",
    "        # plot percentiles\n",
    "        for i in range(len(percentiles)):\n",
    "            pr_percentile = wet_days_percentile(pr_recon, percentiles[i])\n",
    "            print('for percentile {} in path {}, min={}, max={}'.format(\n",
    "                percentiles[i], paths[j], pr_percentile.min(), pr_percentile.max()))\n",
    "            axes[i+1,j+2].imshow(pr_percentile, cmap=plt.get_cmap('jet'),\n",
    "                            vmin=vlims[i][0], vmax=vlims[i][1])\n",
    "            axes[i+1,j+2].contour(orog*std_orog, cmap=plt.get_cmap('Greys'), levels=[250,1000,1750,2500], linewidths=1)\n",
    "    fig.tight_layout()\n",
    "    plt.show()\n",
    "    \n",
    "            "
   ]
  },
  {
   "cell_type": "code",
   "execution_count": 9,
   "metadata": {},
   "outputs": [],
   "source": [
    "def percentile_errors(path, percentiles, filename, test_times=False,mean_downscaled=False):\n",
    "    print(filename)\n",
    "    pr, pr_recon, pr_interpol, t = read_data(path=os.path.join(path, filename), test_times=test_times, mean_downscaled=mean_downscaled)\n",
    "    \n",
    "    # Compute RDDF (revative dry-day frequency)\n",
    "    rddf = np.sum(pr <= 0.1,axis=0)/t\n",
    "    \n",
    "    interpol_rddf = np.sum(pr_interpol <= 0.1, axis=0)/t\n",
    "    error_interpol_rddf = np.mean(np.abs(interpol_rddf - rddf))\n",
    "    \n",
    "    recon_rddf = np.sum(pr_recon <= 0.1, axis=0)/t\n",
    "    error_recon_rddf = np.mean(np.abs(recon_rddf - rddf))\n",
    "    \n",
    "    print(\"abs rddf error of edvae = {} \\t bilinear interpolation = {}\".\n",
    "              format(error_recon_rddf, error_interpol_rddf)) \n",
    "    \n",
    "    local_recon_errors = [error_recon_rddf]\n",
    "    local_interpol_errors = [error_interpol_rddf]\n",
    "    \n",
    "    # Compute Percentile\n",
    "    for percentile in percentiles:\n",
    "        recon_error = np.mean(np.abs(wet_days_percentile(pr,percentile) \n",
    "                                     - wet_days_percentile(pr_recon, percentile)))\n",
    "        interpol_error = np.mean(np.abs(wet_days_percentile(pr,percentile) \n",
    "                                     - wet_days_percentile(pr_interpol, percentile)))\n",
    "        print(\"{}th percentile of edvae = {} \\t bilinear interpolation = {}\".\n",
    "              format(percentile, recon_error, interpol_error)) \n",
    "        local_recon_errors.append(recon_error)\n",
    "        local_interpol_errors.append(interpol_error)\n",
    "    return local_recon_errors, local_interpol_errors"
   ]
  },
  {
   "cell_type": "code",
   "execution_count": 10,
   "metadata": {},
   "outputs": [],
   "source": [
    "def plot_percentile_errors(paths, area, percentiles, absolute=False):\n",
    "    fig, axes = plt.subplots(len(percentiles), len(paths)+1, sharex=True, sharey=True, figsize = (20, 20))\n",
    "    # plot pr and interpol_pr, set v_min, v_max to the pr max and min value\n",
    "    pr, _, pr_interpol, _ = read_data(path=os.path.join(paths[0], area))\n",
    "    vmax = []\n",
    "    for i in range(len(percentiles)):\n",
    "        interpol_error = wet_days_percentile(pr, percentiles[i]) - \\\n",
    "                         wet_days_percentile(pr_interpol, percentiles[i])\n",
    "        \n",
    "        vmax.append(np.abs(interpol_error).max())\n",
    "        if absolute:\n",
    "            axes[i,-1].imshow(np.abs(interpol_error), cmap=plt.get_cmap('bwr'),\n",
    "                              vmin=-vmax[i], vmax=vmax[i])\n",
    "        else:\n",
    "            axes[i,-1].imshow(interpol_error, cmap=plt.get_cmap('bwr'),\n",
    "                              vmin=-vmax[i], vmax=vmax[i])\n",
    "        axes[i,-1].set_title('bilinear interpolated')\n",
    "        axes[i,-1].set_ylabel('{}th percentile'.format(percentiles[i]), rotation=90, size='large')\n",
    "    for j in range(len(paths)):\n",
    "        _, pr_recon, _, _ = read_data(path=os.path.join(paths[j], area))\n",
    "        for i in range(len(percentiles)):\n",
    "            error = wet_days_percentile(pr, percentiles[i]) - wet_days_percentile(pr_recon,percentiles[i])\n",
    "            if absolute:\n",
    "                axes[i,j].imshow(np.abs(error), cmap=plt.get_cmap('bwr'),\n",
    "                                vmin=-vmax[i], vmax=vmax[i])\n",
    "            else:\n",
    "                axes[i,j].imshow(error, cmap=plt.get_cmap('bwr'),\n",
    "                                vmin=-vmax[i], vmax=vmax[i])\n",
    "            axes[i,j].set_title(paths[j])\n",
    "            axes[i,j].set_ylabel('{}th percentile'.format(percentiles[i]), rotation=90, size='large')\n",
    "    fig.tight_layout()\n",
    "    plt.show()\n",
    "    \n",
    "            "
   ]
  },
  {
   "cell_type": "code",
   "execution_count": 11,
   "metadata": {},
   "outputs": [],
   "source": [
    "def msd(path, area, mean_downscaled=False, verbose=False):\n",
    "    upscaler = Upscale(size=40, scale_factor=8)\n",
    "\n",
    "    pr, pr_recon, pr_interpol, t = read_data(path=os.path.join(path, area),mean_downscaled=mean_downscaled)\n",
    "    coarse_pr = upscaler.upscale(torch.tensor(pr)).numpy()\n",
    "    upsample40 = torch.nn.Upsample(scale_factor=8, mode='nearest')\n",
    "    upsampled_corse_pr=upsample40(torch.tensor(coarse_pr).unsqueeze(1)).view(-1,40,40).numpy()\n",
    "\n",
    "    msd_pr = (np.mean((pr - upsampled_corse_pr)**2))\n",
    "    msd_recon = (np.mean((pr_recon - upsampled_corse_pr)**2))\n",
    "    msd_interpol = (np.mean((pr_interpol - upsampled_corse_pr)**2))\n",
    "    if verbose:\n",
    "        print(\"msd pr: {:.2f}\".format(msd_pr))\n",
    "        print(\"msd recon: {:.2f}\".format(msd_recon))\n",
    "        print(\"msd interpol: {:.2f}\".format(msd_interpol))\n",
    "        print(\"-------------------------------------------------\")\n",
    "    return msd_pr, msd_recon, msd_interpol"
   ]
  },
  {
   "cell_type": "code",
   "execution_count": 12,
   "metadata": {},
   "outputs": [],
   "source": [
    "def msd_times(path, area, mean_downscaled):\n",
    "    if not area=='val.nc4':\n",
    "        raise ValueError('not a proper test-time file')\n",
    "    upscaler = Upscale(size=40, scale_factor=8)\n",
    "    msd_pr=0\n",
    "    msd_recon=0\n",
    "    msd_interpol=0\n",
    "    \n",
    "    pr, pr_recon, pr_interpol, t = read_data(path=os.path.join(path, area),test_times=True, mean_downscaled=mean_downscaled)\n",
    "    # split dataset in 40x40 pathes\n",
    "    h_split_pr = np.split(pr, 3, axis=1)\n",
    "    h_split_recon = np.split(pr_recon, 3, axis=1)\n",
    "    h_split_interpol = np.split(pr_interpol, 3, axis=1)\n",
    "    for i in range(3):\n",
    "        v_split_pr = np.split(h_split_pr[i], 18, axis=2)\n",
    "        v_split_recon = np.split(h_split_recon[i], 18, axis=2)\n",
    "        v_split_interpol = np.split(h_split_interpol[i], 18, axis=2)\n",
    "        for j in range(18):\n",
    "            pr=v_split_pr[j]\n",
    "            pr_recon=v_split_recon[j]\n",
    "            pr_interpol=v_split_interpol[j]\n",
    "            coarse_pr = upscaler.upscale(torch.tensor(pr)).numpy()\n",
    "            upsample40 = torch.nn.Upsample(scale_factor=8, mode='nearest')\n",
    "            upsampled_corse_pr=upsample40(torch.tensor(coarse_pr).unsqueeze(1)).view(-1,40,40).numpy()\n",
    "\n",
    "            msd_pr += (np.mean((pr - upsampled_corse_pr)**2))\n",
    "            msd_recon += (np.mean((pr_recon - upsampled_corse_pr)**2))\n",
    "            msd_interpol += (np.mean((pr_interpol - upsampled_corse_pr)**2))\n",
    "\n",
    "    print(\"msd pr: {:.2f}\".format(msd_pr/54))\n",
    "    print(\"msd recon: {:.2f}\".format(msd_recon/54))\n",
    "    print(\"msd interpol: {:.2f}\".format(msd_interpol/54))\n",
    "    print(\"-------------------------------------------------\")\n",
    "    return msd_pr/54, msd_recon/54, msd_interpol/54"
   ]
  },
  {
   "cell_type": "markdown",
   "metadata": {},
   "source": [
    "# Final results: Metrics for the table:\n",
    "\n",
    "## Definitions"
   ]
  },
  {
   "cell_type": "code",
   "execution_count": 13,
   "metadata": {},
   "outputs": [],
   "source": [
    "models = ['results/02_13_mse/', 'results/02_13_gamma/', 'results/02_13_deterministic/', \n",
    "         'results/02_13_mse_no_orog/']\n",
    "phase = 'test'\n",
    "load_epoch = 14\n",
    "percentiles = [50, 99]"
   ]
  },
  {
   "cell_type": "markdown",
   "metadata": {},
   "source": [
    "## 2a) Print percentiles for all test areas"
   ]
  },
  {
   "cell_type": "code",
   "execution_count": 14,
   "metadata": {},
   "outputs": [
    {
     "name": "stdout",
     "output_type": "stream",
     "text": [
      "results/02_13_mse/test_14\n",
      "----------------------------------------\n",
      "val.lat48_lon680.nc4\n",
      "abs rddf error of edvae = 0.0645737347465582 \t bilinear interpolation = 0.19572786295369213\n",
      "50th percentile of edvae = 0.515492365565151 \t bilinear interpolation = 0.5600871634297073\n",
      "99th percentile of edvae = 3.1144768595054715 \t bilinear interpolation = 7.554279498143493\n",
      "val.lat48_lon560.nc4\n",
      "abs rddf error of edvae = 0.06550023466833542 \t bilinear interpolation = 0.140433989752816\n",
      "50th percentile of edvae = 0.8173876616498456 \t bilinear interpolation = 1.1529047909239307\n",
      "99th percentile of edvae = 7.607237637925145 \t bilinear interpolation = 13.137038990792623\n",
      "val.lat8_lon680.nc4\n",
      "abs rddf error of edvae = 0.08857091872653315 \t bilinear interpolation = 0.13731329200563203\n",
      "50th percentile of edvae = 0.7812372718239203 \t bilinear interpolation = 0.8943260593991726\n",
      "99th percentile of edvae = 8.762980518171188 \t bilinear interpolation = 15.396116982826584\n",
      "val.lat88_lon40.nc4\n",
      "abs rddf error of edvae = 0.04968050883917396 \t bilinear interpolation = 0.18044718984668337\n",
      "50th percentile of edvae = 0.5550831914599985 \t bilinear interpolation = 1.0227269124425948\n",
      "99th percentile of edvae = 3.7235479063987724 \t bilinear interpolation = 10.594722733199594\n",
      "val.lat88_lon240.nc4\n",
      "abs rddf error of edvae = 0.07653644203692114 \t bilinear interpolation = 0.20132093828222777\n",
      "50th percentile of edvae = 1.1095226317830384 \t bilinear interpolation = 1.3928423547185957\n",
      "99th percentile of edvae = 7.637995201337333 \t bilinear interpolation = 17.614648874396075\n",
      "val.lat8_lon480.nc4\n",
      "abs rddf error of edvae = 0.0934153531758448 \t bilinear interpolation = 0.1861445948060075\n",
      "50th percentile of edvae = 0.44329282865393904 \t bilinear interpolation = 0.5618673952948302\n",
      "99th percentile of edvae = 5.665452052840591 \t bilinear interpolation = 12.544135596871369\n",
      "--------------------------------------------------------------------------------\n",
      "average errors for rddf of edvae = 0.07, bilinear interpolation = 0.17, recon/interpol = 0.42\n",
      "average errors for 50th percentile of edvae = 0.70, bilinear interpolation = 0.93, recon/interpol = 0.76\n",
      "average errors for 99th percentile of edvae = 6.09, bilinear interpolation = 12.81, recon/interpol = 0.48\n",
      "results/02_13_gamma/test_14\n",
      "----------------------------------------\n",
      "val.lat48_lon680.nc4\n",
      "abs rddf error of edvae = 0.052255896041927416 \t bilinear interpolation = 0.19572786295369213\n",
      "50th percentile of edvae = 0.4533729551685974 \t bilinear interpolation = 0.5600871660141274\n",
      "99th percentile of edvae = 3.3330027313515496 \t bilinear interpolation = 7.554279529084264\n",
      "val.lat48_lon560.nc4\n",
      "abs rddf error of edvae = 0.05052702596996245 \t bilinear interpolation = 0.140433989752816\n",
      "50th percentile of edvae = 1.017151675731875 \t bilinear interpolation = 1.1529048063093796\n",
      "99th percentile of edvae = 7.072703157624603 \t bilinear interpolation = 13.137039000481359\n",
      "val.lat8_lon680.nc4\n",
      "abs rddf error of edvae = 0.04286520259699625 \t bilinear interpolation = 0.13731329200563203\n",
      "50th percentile of edvae = 0.5096634970186278 \t bilinear interpolation = 0.8943260582536459\n",
      "99th percentile of edvae = 6.6379789492905115 \t bilinear interpolation = 15.396116970151656\n",
      "val.lat88_lon40.nc4\n",
      "abs rddf error of edvae = 0.03611677683041302 \t bilinear interpolation = 0.18044718984668337\n",
      "50th percentile of edvae = 0.614063344206661 \t bilinear interpolation = 1.0227269119583071\n",
      "99th percentile of edvae = 5.124944283092019 \t bilinear interpolation = 10.594722729647158\n",
      "val.lat88_lon240.nc4\n",
      "abs rddf error of edvae = 0.042470862015018776 \t bilinear interpolation = 0.20132093828222777\n",
      "50th percentile of edvae = 0.7066349225863814 \t bilinear interpolation = 1.3928423544764519\n",
      "99th percentile of edvae = 6.157496855688087 \t bilinear interpolation = 17.614648862451304\n",
      "val.lat8_lon480.nc4\n",
      "abs rddf error of edvae = 0.03992446612953692 \t bilinear interpolation = 0.1861445948060075\n",
      "50th percentile of edvae = 0.33652407040819526 \t bilinear interpolation = 0.5618673963751644\n",
      "99th percentile of edvae = 5.254793250620354 \t bilinear interpolation = 12.544135602474205\n",
      "--------------------------------------------------------------------------------\n",
      "average errors for rddf of edvae = 0.04, bilinear interpolation = 0.17, recon/interpol = 0.25\n",
      "average errors for 50th percentile of edvae = 0.61, bilinear interpolation = 0.93, recon/interpol = 0.65\n",
      "average errors for 99th percentile of edvae = 5.60, bilinear interpolation = 12.81, recon/interpol = 0.44\n",
      "results/02_13_deterministic/test_14\n",
      "----------------------------------------\n",
      "val.lat48_lon680.nc4\n",
      "abs rddf error of edvae = 0.06122394203692116 \t bilinear interpolation = 0.19572786295369213\n",
      "50th percentile of edvae = 0.43802594822831453 \t bilinear interpolation = 0.5600871634297073\n",
      "99th percentile of edvae = 2.9250660936146953 \t bilinear interpolation = 7.554279498143493\n",
      "val.lat48_lon560.nc4\n",
      "abs rddf error of edvae = 0.07115569266270338 \t bilinear interpolation = 0.140433989752816\n",
      "50th percentile of edvae = 1.0090506351459771 \t bilinear interpolation = 1.1529047909239307\n",
      "99th percentile of edvae = 8.132912053062014 \t bilinear interpolation = 13.137038990792623\n",
      "val.lat8_lon680.nc4\n",
      "abs rddf error of edvae = 0.06913514940550688 \t bilinear interpolation = 0.13731329200563203\n",
      "50th percentile of edvae = 0.687997541539371 \t bilinear interpolation = 0.8943260593991726\n",
      "99th percentile of edvae = 8.536744505405423 \t bilinear interpolation = 15.396116982826584\n",
      "val.lat88_lon40.nc4\n",
      "abs rddf error of edvae = 0.04616424827909887 \t bilinear interpolation = 0.18044718984668337\n",
      "50th percentile of edvae = 0.48094833496958017 \t bilinear interpolation = 1.0227269124425948\n",
      "99th percentile of edvae = 4.979046948513386 \t bilinear interpolation = 10.594722733199594\n",
      "val.lat88_lon240.nc4\n",
      "abs rddf error of edvae = 0.08877180459949936 \t bilinear interpolation = 0.20132093828222777\n",
      "50th percentile of edvae = 1.046505977548659 \t bilinear interpolation = 1.3928423547185957\n",
      "99th percentile of edvae = 8.601681622654192 \t bilinear interpolation = 17.614648874396075\n",
      "val.lat8_lon480.nc4\n",
      "abs rddf error of edvae = 0.09860558119524405 \t bilinear interpolation = 0.1861445948060075\n",
      "50th percentile of edvae = 0.40935229824855923 \t bilinear interpolation = 0.5618673952948302\n",
      "99th percentile of edvae = 5.566787140965459 \t bilinear interpolation = 12.544135596871369\n",
      "--------------------------------------------------------------------------------\n",
      "average errors for rddf of edvae = 0.07, bilinear interpolation = 0.17, recon/interpol = 0.42\n",
      "average errors for 50th percentile of edvae = 0.68, bilinear interpolation = 0.93, recon/interpol = 0.73\n",
      "average errors for 99th percentile of edvae = 6.46, bilinear interpolation = 12.81, recon/interpol = 0.50\n",
      "results/02_13_mse_no_orog/test_14\n",
      "----------------------------------------\n",
      "val.lat48_lon680.nc4\n",
      "abs rddf error of edvae = 0.10929340386420526 \t bilinear interpolation = 0.19572786295369213\n",
      "50th percentile of edvae = 0.43252356024924665 \t bilinear interpolation = 0.5600871634297073\n",
      "99th percentile of edvae = 2.887136489123104 \t bilinear interpolation = 7.554279498143493\n",
      "val.lat48_lon560.nc4\n",
      "abs rddf error of edvae = 0.10205241903942427 \t bilinear interpolation = 0.140433989752816\n",
      "50th percentile of edvae = 0.8796712299156934 \t bilinear interpolation = 1.1529047909239307\n",
      "99th percentile of edvae = 7.76319920175373 \t bilinear interpolation = 13.137038990792623\n",
      "val.lat8_lon680.nc4\n",
      "abs rddf error of edvae = 0.06491307493742177 \t bilinear interpolation = 0.13731329200563203\n",
      "50th percentile of edvae = 0.7412964728521183 \t bilinear interpolation = 0.8943260593991726\n",
      "99th percentile of edvae = 8.235782861000297 \t bilinear interpolation = 15.396116982826584\n",
      "val.lat88_lon40.nc4\n",
      "abs rddf error of edvae = 0.10036314924906133 \t bilinear interpolation = 0.18044718984668337\n",
      "50th percentile of edvae = 0.8579570421669632 \t bilinear interpolation = 1.0227269124425948\n",
      "99th percentile of edvae = 4.07314711614251 \t bilinear interpolation = 10.594722733199594\n",
      "val.lat88_lon240.nc4\n",
      "abs rddf error of edvae = 0.10875136889862329 \t bilinear interpolation = 0.20132093828222777\n",
      "50th percentile of edvae = 1.2829169722739606 \t bilinear interpolation = 1.3928423547185957\n",
      "99th percentile of edvae = 8.61660298738479 \t bilinear interpolation = 17.614648874396075\n",
      "val.lat8_lon480.nc4\n"
     ]
    },
    {
     "name": "stdout",
     "output_type": "stream",
     "text": [
      "abs rddf error of edvae = 0.07420369211514392 \t bilinear interpolation = 0.1861445948060075\n",
      "50th percentile of edvae = 0.4535150147322565 \t bilinear interpolation = 0.5618673952948302\n",
      "99th percentile of edvae = 5.06282186786532 \t bilinear interpolation = 12.544135596871369\n",
      "--------------------------------------------------------------------------------\n",
      "average errors for rddf of edvae = 0.09, bilinear interpolation = 0.17, recon/interpol = 0.54\n",
      "average errors for 50th percentile of edvae = 0.77, bilinear interpolation = 0.93, recon/interpol = 0.83\n",
      "average errors for 99th percentile of edvae = 6.11, bilinear interpolation = 12.81, recon/interpol = 0.48\n"
     ]
    }
   ],
   "source": [
    "for model in models:\n",
    "    path = os.path.join(model, '{}_{}'.format(phase, load_epoch))\n",
    "    print(path)\n",
    "    print('----------------------------------------')\n",
    "    total_recon_errors = []\n",
    "    total_interpol_errors = []\n",
    "    \n",
    "    for filename in os.listdir(path):\n",
    "        if filename.startswith('val.'):\n",
    "            local_recon_errors, local_interpol_errors = percentile_errors(path, percentiles, filename)\n",
    "            total_recon_errors.append(local_recon_errors)\n",
    "            total_interpol_errors.append(local_interpol_errors)\n",
    "    average_recon = np.mean(total_recon_errors, 0)\n",
    "    average_interpol = np.mean(total_interpol_errors, 0)\n",
    "    print('--------------------------------------------------------------------------------')\n",
    "    print('average errors for rddf of edvae = {:.2f}, bilinear interpolation = {:.2f}, recon/interpol = {:.2f}'.format(\n",
    "            average_recon[0], average_interpol[0],average_recon[0]/average_interpol[0]))\n",
    "    for i in range(len(percentiles)):\n",
    "        print('average errors for {}th percentile of edvae = {:.2f}, bilinear interpolation = {:.2f}, recon/interpol = {:.2f}'.format(\n",
    "            percentiles[i], average_recon[i+1], average_interpol[i+1],average_recon[i+1]/average_interpol[i+1]))"
   ]
  },
  {
   "cell_type": "markdown",
   "metadata": {},
   "source": [
    "## mean_gamma percentile on test areas"
   ]
  },
  {
   "cell_type": "code",
   "execution_count": null,
   "metadata": {},
   "outputs": [
    {
     "name": "stdout",
     "output_type": "stream",
     "text": [
      "results/02_13_gamma/test_14\n",
      "----------------------------------------\n",
      "val.lat48_lon680.nc4\n",
      "abs rddf error of edvae = 0.05562597778473091 \t bilinear interpolation = 0.19572786295369213\n",
      "50th percentile of edvae = 0.5036820712452754 \t bilinear interpolation = 0.5600871660141274\n",
      "99th percentile of edvae = 3.8518696505412438 \t bilinear interpolation = 7.554279529084264\n",
      "val.lat48_lon560.nc4\n",
      "abs rddf error of edvae = 0.07852672285669587 \t bilinear interpolation = 0.140433989752816\n",
      "50th percentile of edvae = 1.0745415988285094 \t bilinear interpolation = 1.1529048063093796\n",
      "99th percentile of edvae = 8.782054410842054 \t bilinear interpolation = 13.137039000481359\n",
      "val.lat8_lon680.nc4\n",
      "abs rddf error of edvae = 0.07098761146745933 \t bilinear interpolation = 0.13731329200563203\n",
      "50th percentile of edvae = 0.7351428676955402 \t bilinear interpolation = 0.8943260582536459\n",
      "99th percentile of edvae = 9.157177268511054 \t bilinear interpolation = 15.396116970151656\n",
      "val.lat88_lon40.nc4\n",
      "abs rddf error of edvae = 0.06308759973404256 \t bilinear interpolation = 0.18044718984668337\n",
      "50th percentile of edvae = 0.7085149976052344 \t bilinear interpolation = 1.0227269119583071\n",
      "99th percentile of edvae = 4.742024641835689 \t bilinear interpolation = 10.594722729647158\n",
      "val.lat88_lon240.nc4\n",
      "abs rddf error of edvae = 0.08946666731852314 \t bilinear interpolation = 0.20132093828222777\n",
      "50th percentile of edvae = 1.1491044484823942 \t bilinear interpolation = 1.3928423544764519\n",
      "99th percentile of edvae = 9.491993125879757 \t bilinear interpolation = 17.614648862451304\n",
      "val.lat8_lon480.nc4\n",
      "abs rddf error of edvae = 0.06488858142991238 \t bilinear interpolation = 0.1861445948060075\n",
      "50th percentile of edvae = 0.42078512033913285 \t bilinear interpolation = 0.5618673963751644\n",
      "99th percentile of edvae = 5.777503069448468 \t bilinear interpolation = 12.544135602474205\n",
      "--------------------------------------------------------------------------------\n",
      "average errors for rddf of edvae = 0.07, bilinear interpolation = 0.17, recon/interpol = 0.41\n",
      "average errors for 50th percentile of edvae = 0.77, bilinear interpolation = 0.93, recon/interpol = 0.82\n",
      "average errors for 99th percentile of edvae = 6.97, bilinear interpolation = 12.81, recon/interpol = 0.54\n"
     ]
    }
   ],
   "source": [
    "model='results/02_13_gamma/'\n",
    "path = os.path.join(model, '{}_{}'.format(phase, load_epoch))\n",
    "print(path)\n",
    "print('----------------------------------------')\n",
    "total_recon_errors = []\n",
    "total_interpol_errors = []\n",
    "\n",
    "for filename in os.listdir(path):\n",
    "    if filename.startswith('val.'):\n",
    "        local_recon_errors, local_interpol_errors = percentile_errors(path, percentiles, filename, mean_downscaled=True)\n",
    "        total_recon_errors.append(local_recon_errors)\n",
    "        total_interpol_errors.append(local_interpol_errors)\n",
    "average_recon = np.mean(total_recon_errors, 0)\n",
    "average_interpol = np.mean(total_interpol_errors, 0)\n",
    "print('--------------------------------------------------------------------------------')\n",
    "print('average errors for rddf of edvae = {:.2f}, bilinear interpolation = {:.2f}, recon/interpol = {:.2f}'.format(\n",
    "        average_recon[0], average_interpol[0],average_recon[0]/average_interpol[0]))\n",
    "for i in range(len(percentiles)):\n",
    "    print('average errors for {}th percentile of edvae = {:.2f}, bilinear interpolation = {:.2f}, recon/interpol = {:.2f}'.format(\n",
    "        percentiles[i], average_recon[i+1], average_interpol[i+1],average_recon[i+1]/average_interpol[i+1]))"
   ]
  },
  {
   "cell_type": "markdown",
   "metadata": {},
   "source": [
    "## 2b) print percentile errors for testtimes"
   ]
  },
  {
   "cell_type": "code",
   "execution_count": null,
   "metadata": {},
   "outputs": [
    {
     "name": "stdout",
     "output_type": "stream",
     "text": [
      "results/02_13_mse/times_test_14\n",
      "----------------------------------------\n",
      "val.nc4\n",
      "abs rddf error of edvae = 0.06747848823999356 \t bilinear interpolation = 0.15858206305840788\n"
     ]
    }
   ],
   "source": [
    "for model in models:\n",
    "    path = os.path.join(model, 'times_{}_{}'.format(phase, load_epoch))\n",
    "    print(path)\n",
    "    print('----------------------------------------')\n",
    "    local_recon_errors, local_interpol_errors = percentile_errors(path, percentiles, 'val.nc4')\n",
    "    print('--------------------------------------------------------------------------------')\n",
    "    print('average errors for rddf of edvae = {:.2f}, bilinear interpolation = {:.2f}, recon/interpol = {:.2f}'.format(\n",
    "            local_recon_errors[0], local_interpol_errors[0],local_recon_errors[0]/local_interpol_errors[0]))\n",
    "    for i in range(len(percentiles)):\n",
    "        print('average errors for {}th percentile of edvae = {:.2f}, bilinear interpolation = {:.2f}, recon/interpol = {:.2f}'.format(\n",
    "            percentiles[i], local_recon_errors[i+1], local_interpol_errors[i+1], local_recon_errors[i+1]/local_interpol_errors[i+1]))"
   ]
  },
  {
   "cell_type": "markdown",
   "metadata": {},
   "source": [
    "## Print mean_gamma percentile for global data"
   ]
  },
  {
   "cell_type": "code",
   "execution_count": null,
   "metadata": {},
   "outputs": [],
   "source": [
    "model='results/02_13_gamma/'\n",
    "path = os.path.join(model, 'times_{}_{}'.format(phase, load_epoch))\n",
    "print(path)\n",
    "print('----------------------------------------')\n",
    "local_recon_errors, local_interpol_errors = percentile_errors(path, percentiles, 'val.nc4',mean_downscaled=True)\n",
    "print('--------------------------------------------------------------------------------')\n",
    "print('average errors for rddf of edvae = {:.2f}, bilinear interpolation = {:.2f}, recon/interpol = {:.2f}'.format(\n",
    "        local_recon_errors[0], local_interpol_errors[0],local_recon_errors[0]/local_interpol_errors[0]))\n",
    "for i in range(len(percentiles)):\n",
    "    print('average errors for {}th percentile of edvae = {:.2f}, bilinear interpolation = {:.2f}, recon/interpol = {:.2f}'.format(\n",
    "        percentiles[i], local_recon_errors[i+1], local_interpol_errors[i+1], local_recon_errors[i+1]/local_interpol_errors[i+1]))"
   ]
  },
  {
   "cell_type": "markdown",
   "metadata": {},
   "source": [
    "## 3a) Print RMSD for test areas"
   ]
  },
  {
   "cell_type": "code",
   "execution_count": null,
   "metadata": {},
   "outputs": [],
   "source": [
    "for model in models:\n",
    "    path = os.path.join(model, '{}_{}'.format(phase, load_epoch))\n",
    "    print(\"+++++++++++++++++++++++++++++++++++\")\n",
    "    print(\"Path: {}\".format(path))\n",
    "    print(\"+++++++++++++++++++++++++++++++++++\")\n",
    "    total_msd_pr=[]\n",
    "    total_msd_recon=[]\n",
    "    total_msd_interpol=[]\n",
    "\n",
    "    for filename in os.listdir(path):\n",
    "        if filename.startswith('val.'):\n",
    "            print(filename)\n",
    "            print('-----------------')\n",
    "            \n",
    "            msd_pr, msd_recon, msd_interpol = msd(path, area=filename)\n",
    "            total_msd_pr.append(msd_pr)\n",
    "            total_msd_recon.append(msd_recon)\n",
    "            total_msd_interpol.append(msd_interpol)\n",
    "    print(\"+++++++++++++++++++++++++++++++++++\")\n",
    "    print(\"rmsd pr {:.2f}\".format(np.sqrt(np.mean(total_msd_pr))))\n",
    "    print(\"rmsd recon {:.2f}\".format(np.sqrt(np.mean(total_msd_recon))))\n",
    "    print(\"rmsd interpol {:.2f}\".format(np.sqrt(np.mean(total_msd_interpol))))\n",
    "    print(\"rel rmsd recon {:.2f}\".format(np.sqrt(np.mean(total_msd_recon))/np.sqrt(np.mean(total_msd_pr))))\n",
    "    print(\"rel rmsd interpol {:.2f}\".format(np.sqrt(np.mean(total_msd_interpol))/np.sqrt(np.mean(total_msd_pr))))"
   ]
  },
  {
   "cell_type": "markdown",
   "metadata": {},
   "source": [
    "## Mean-gamma on test areas for "
   ]
  },
  {
   "cell_type": "code",
   "execution_count": null,
   "metadata": {},
   "outputs": [],
   "source": [
    "model='results/02_13_gamma/'\n",
    "path = os.path.join(model, '{}_{}'.format(phase, load_epoch))\n",
    "print(\"+++++++++++++++++++++++++++++++++++\")\n",
    "print(\"Path: {}\".format(path))\n",
    "print(\"+++++++++++++++++++++++++++++++++++\")\n",
    "total_msd_pr=[]\n",
    "total_msd_recon=[]\n",
    "total_msd_interpol=[]\n",
    "\n",
    "for filename in os.listdir(path):\n",
    "    if filename.startswith('val.'):\n",
    "        print(filename)\n",
    "        print('-----------------')\n",
    "\n",
    "        msd_pr, msd_recon, msd_interpol = msd(path, area=filename, mean_downscaled=True)\n",
    "        total_msd_pr.append(msd_pr)\n",
    "        total_msd_recon.append(msd_recon)\n",
    "        total_msd_interpol.append(msd_interpol)\n",
    "print(\"+++++++++++++++++++++++++++++++++++\")\n",
    "print(\"rmsd pr {:.2f}\".format(np.sqrt(np.mean(total_msd_pr))))\n",
    "print(\"rmsd recon {:.2f}\".format(np.sqrt(np.mean(total_msd_recon))))\n",
    "print(\"rmsd interpol {:.2f}\".format(np.sqrt(np.mean(total_msd_interpol))))\n",
    "print(\"rel rmsd recon {:.2f}\".format(np.sqrt(np.mean(total_msd_recon))/np.sqrt(np.mean(total_msd_pr))))\n",
    "print(\"rel rmsd interpol {:.2f}\".format(np.sqrt(np.mean(total_msd_interpol))/np.sqrt(np.mean(total_msd_pr))))"
   ]
  },
  {
   "cell_type": "markdown",
   "metadata": {},
   "source": [
    "## 3b) RMSD for test times"
   ]
  },
  {
   "cell_type": "code",
   "execution_count": null,
   "metadata": {},
   "outputs": [],
   "source": [
    "for model in models:\n",
    "    path = os.path.join(model, 'times_{}_{}'.format(phase, load_epoch))\n",
    "    print(\"+++++++++++++++++++++++++++\")\n",
    "    print(\"Path: {}\".format(path))\n",
    "    print(\"---------------------------\")\n",
    "    msd_pr, msd_recon, msd_interpol = msd_times(path, area='val.nc4')\n",
    "    total_msd_pr.append(msd_pr)\n",
    "    print(\"+++++++++++++++++++++++++++\")\n",
    "    print(\"rmsd pr = {:.2f}\".format(np.sqrt(msd_pr)))\n",
    "    print(\"rmsd recon = {:.2f}\".format(np.sqrt(msd_recon)))\n",
    "    print(\"rmsd interpol = {:.2f}\".format(np.sqrt(msd_interpol)))\n",
    "    print(\"rel rmsd recon {:.2f}\".format(np.sqrt(msd_recon)/np.sqrt(msd_pr)))\n",
    "    print(\"rel rmsd interpol {:.2f}\".format(np.sqrt(msd_interpol)/np.sqrt(msd_pr)))"
   ]
  },
  {
   "cell_type": "markdown",
   "metadata": {},
   "source": [
    "# Mean_gamma rddf global"
   ]
  },
  {
   "cell_type": "code",
   "execution_count": null,
   "metadata": {},
   "outputs": [],
   "source": [
    "model='results/02_13_gamma/'\n",
    "path = os.path.join(model, 'times_{}_{}'.format(phase, load_epoch))\n",
    "print(\"+++++++++++++++++++++++++++\")\n",
    "print(\"Path: {}\".format(path))\n",
    "print(\"---------------------------\")\n",
    "msd_pr, msd_recon, msd_interpol = msd_times(path, area='val.nc4', mean_downscaled=True)\n",
    "total_msd_pr.append(msd_pr)\n",
    "print(\"+++++++++++++++++++++++++++\")\n",
    "print(\"rmsd pr = {:.2f}\".format(np.sqrt(msd_pr)))\n",
    "print(\"rmsd recon = {:.2f}\".format(np.sqrt(msd_recon)))\n",
    "print(\"rmsd interpol = {:.2f}\".format(np.sqrt(msd_interpol)))\n",
    "print(\"rel rmsd recon {:.2f}\".format(np.sqrt(msd_recon)/np.sqrt(msd_pr)))\n",
    "print(\"rel rmsd interpol {:.2f}\".format(np.sqrt(msd_interpol)/np.sqrt(msd_pr)))"
   ]
  },
  {
   "cell_type": "markdown",
   "metadata": {},
   "source": [
    "## 4. Plot $99^{th}$ percentiles + RDDF of all models at one test region"
   ]
  },
  {
   "cell_type": "code",
   "execution_count": null,
   "metadata": {},
   "outputs": [],
   "source": [
    "area = 'val.lat8_lon480.nc4'"
   ]
  },
  {
   "cell_type": "code",
   "execution_count": null,
   "metadata": {},
   "outputs": [],
   "source": [
    "paths = [os.path.join(model, '{}_{}'.format(phase, load_epoch)) for model in models]\n",
    "plot_percentiles(paths, area, percentiles, vlims=[[0, 8], [0,80]])"
   ]
  },
  {
   "cell_type": "markdown",
   "metadata": {},
   "source": [
    "## 4b) plot percentiles for mean_gamma"
   ]
  },
  {
   "cell_type": "code",
   "execution_count": null,
   "metadata": {},
   "outputs": [],
   "source": [
    "paths = [os.path.join('results/02_13_gamma/', '{}_{}'.format(phase, load_epoch))]\n",
    "plot_percentiles(paths, area, percentiles,mean_downscaled=True, vlims=[[0, 8], [0,80]])\n",
    "# todo scale"
   ]
  },
  {
   "cell_type": "markdown",
   "metadata": {},
   "source": [
    "## 5. Plot mean value for Columbia"
   ]
  },
  {
   "cell_type": "code",
   "execution_count": null,
   "metadata": {},
   "outputs": [],
   "source": [
    "with Dataset('results/02_13_mse/test_14/t.val.lat48_lon560.nc4', \"r\", format=\"NETCDF4\") as file:\n",
    "    pr = normalized_flux_to_mm_per_d(file['pr'][:], std)\n",
    "    standard_pr_recon = normalized_flux_to_mm_per_d(file['downscaled_pr_0'][:],std)\n",
    "    orog = file['orog'][:]*std_orog\n",
    "with Dataset('results/02_13_mse_no_orog/test_14/t.val.lat48_lon560.nc4', \"r\", format=\"NETCDF4\") as file:\n",
    "    no_orog_pr_recon = normalized_flux_to_mm_per_d(file['downscaled_pr_0'][:],std)\n",
    "fig, axes = plt.subplots(2, 2, sharex=True, sharey=True, figsize = (12, 12))\n",
    "axes[0,0].imshow(orog,cmap=plt.get_cmap('terrain'),vmin=0, vmax=4000)\n",
    "axes[0,1].imshow(pr[0,:,:],cmap=plt.get_cmap('jet'),vmin=0, vmax=20)\n",
    "axes[1,0].imshow(standard_pr_recon[0,:,:],cmap=plt.get_cmap('jet'),vmin=0, vmax=20)\n",
    "axes[1,1].imshow(no_orog_pr_recon[0,:,:],cmap=plt.get_cmap('jet'),vmin=0, vmax=20)\n",
    "\n",
    "print ('orog min={}, max={}'.format(orog.min(), orog.max()))\n",
    "print ('pr min={}, max={}'.format(pr.min(), pr.max()))\n",
    "print('standard pr min{}, max{}'.format(standard_pr_recon.min(),standard_pr_recon.max()))\n"
   ]
  },
  {
   "cell_type": "code",
   "execution_count": null,
   "metadata": {},
   "outputs": [],
   "source": [
    "plot_percentile_errors(paths, area, percentiles)"
   ]
  },
  {
   "cell_type": "code",
   "execution_count": null,
   "metadata": {},
   "outputs": [],
   "source": [
    "plot_percentile_errors(paths, area, percentiles, absolute=True)"
   ]
  },
  {
   "cell_type": "code",
   "execution_count": null,
   "metadata": {},
   "outputs": [],
   "source": [
    "area = 'val.lat48_lon560.nc4'"
   ]
  },
  {
   "cell_type": "code",
   "execution_count": null,
   "metadata": {},
   "outputs": [],
   "source": [
    "paths = [os.path.join(model, '{}_{}'.format(phase, load_epoch)) for model in models]\n",
    "plot_percentiles(paths, area, percentiles)"
   ]
  },
  {
   "cell_type": "code",
   "execution_count": null,
   "metadata": {},
   "outputs": [],
   "source": [
    "plot_percentile_errorserrorserrorserrorserrors(paths, area, percentiles)"
   ]
  },
  {
   "cell_type": "markdown",
   "metadata": {},
   "source": [
    "## Dry day fraction"
   ]
  },
  {
   "cell_type": "code",
   "execution_count": null,
   "metadata": {},
   "outputs": [],
   "source": [
    "def plot_dry_d_error(paths, area):\n",
    "    fig, axes = plt.subplots(2, len(paths)+1, sharex=True, sharey=True, figsize = (20, 20))\n",
    "    # plot pr and interpol_pr, set v_min, v_max to the pr max and min value\n",
    "    pr, _, pr_interpol, t = read_data(path=os.path.join(paths[0], area))\n",
    "    dry_d_frac = np.sum(pr <= 0.1,axis=0)/t\n",
    "    interpol_dry_d_frac = np.sum(pr_interpol <= 0.1, axis=0)/t\n",
    "    error_interpol_dry_d_frac = interpol_dry_d_frac - dry_d_frac\n",
    "    vmax=max([error_interpol_dry_d_frac.min(), error_interpol_dry_d_frac.max()])\n",
    "    # plot error\n",
    "    axes[0,-1].imshow(error_interpol_dry_d_frac, cmap=plt.get_cmap('bwr'),\n",
    "                     vmin=-1, vmax=1)\n",
    "    axes[0,-1].set_title('bilinear interpolated')\n",
    "    axes[0,-1].set_ylabel('error', rotation=90, size='large')\n",
    "    # plot abs error\n",
    "    axes[1,-1].imshow(np.abs(error_interpol_dry_d_frac), cmap=plt.get_cmap('bwr'),\n",
    "                     vmin=-1, vmax=1)\n",
    "    axes[1,-1].set_title('bilinear interpolated')\n",
    "    axes[1,-1].set_ylabel('abs error', rotation=90, size='large')\n",
    "    for j in range(len(paths)):\n",
    "        # compute dry day frequences\n",
    "        _, pr_recon, _,  _= read_data(path=os.path.join(paths[j], area))\n",
    "        recon_dry_d_frac = np.sum(pr_recon <= 0.1, axis=0)/t\n",
    "        error_recon_dry_d_frac = recon_dry_d_frac - dry_d_frac\n",
    "        # plot\n",
    "        axes[0,j].imshow(error_recon_dry_d_frac, cmap=plt.get_cmap('bwr'),\n",
    "                         vmin=-1, vmax=1)\n",
    "        axes[0,j].set_title(paths[j])\n",
    "        axes[0,j].set_ylabel('error', rotation=90, size='large')\n",
    "        # plot abs error\n",
    "        axes[1,j].imshow(np.abs(error_recon_dry_d_frac), cmap=plt.get_cmap('bwr'),\n",
    "                         vmin=-1, vmax=1)\n",
    "        axes[1,j].set_title(paths[j])\n",
    "        axes[1,j].set_ylabel('abs error', rotation=90, size='large')        \n",
    "    fig.tight_layout()\n",
    "    plt.show()"
   ]
  },
  {
   "cell_type": "code",
   "execution_count": null,
   "metadata": {},
   "outputs": [],
   "source": [
    "def plot_dry_d(paths, area):\n",
    "    fig, axes = plt.subplots(1, len(paths)+2, sharex=True, sharey=True, figsize = (20, 20))\n",
    "    # plot pr and interpol_pr, set v_min, v_max to the pr max and min value\n",
    "    pr, _, pr_interpol, t = read_data(path=os.path.join(paths[0], area))\n",
    "    dry_d_frac = np.sum(pr <= 0.1,axis=0)/t\n",
    "    interpol_dry_d_frac = np.sum(pr_interpol <= 0.1, axis=0)/t\n",
    "    # plot\n",
    "    axes[-2].imshow(interpol_dry_d_frac, cmap=plt.get_cmap('bwr'),\n",
    "                     vmin=-1, vmax=1)\n",
    "    axes[-2].set_title('bilinear interpolated')\n",
    "    axes[-1].imshow(dry_d_frac, cmap=plt.get_cmap('bwr'),\n",
    "                     vmin=-1, vmax=1)\n",
    "    axes[-1].set_title('observed')\n",
    "    for j in range(len(paths)):\n",
    "        # compute dry day frequences\n",
    "        _, pr_recon, _,  _= read_data(path=os.path.join(paths[j], area))\n",
    "        recon_dry_d_frac = np.sum(pr_recon <= 0.1, axis=0)/t\n",
    "        # plot\n",
    "        axes[j].imshow(recon_dry_d_frac, cmap=plt.get_cmap('bwr'),\n",
    "                         vmin=-1, vmax=1)\n",
    "        axes[j].set_title(paths[j])\n",
    "        axes[j].set_ylabel('dry day frequency error', rotation=90, size='large')\n",
    "    fig.tight_layout()\n",
    "    plt.show()"
   ]
  },
  {
   "cell_type": "code",
   "execution_count": null,
   "metadata": {},
   "outputs": [],
   "source": [
    "plot_dry_d(paths=paths, area=area)"
   ]
  },
  {
   "cell_type": "code",
   "execution_count": null,
   "metadata": {},
   "outputs": [],
   "source": [
    "plot_dry_d_error(paths=paths, area=area)"
   ]
  },
  {
   "cell_type": "code",
   "execution_count": null,
   "metadata": {},
   "outputs": [],
   "source": []
  }
 ],
 "metadata": {
  "kernelspec": {
   "display_name": "Python 3",
   "language": "python",
   "name": "python3"
  },
  "language_info": {
   "codemirror_mode": {
    "name": "ipython",
    "version": 3
   },
   "file_extension": ".py",
   "mimetype": "text/x-python",
   "name": "python",
   "nbconvert_exporter": "python",
   "pygments_lexer": "ipython3",
   "version": "3.6.5"
  }
 },
 "nbformat": 4,
 "nbformat_minor": 2
}
